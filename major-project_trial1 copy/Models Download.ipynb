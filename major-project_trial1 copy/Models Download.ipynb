{
 "cells": [
  {
   "cell_type": "code",
   "execution_count": 5,
   "id": "f17d4921",
   "metadata": {},
   "outputs": [],
   "source": [
    "from transformers import MarianTokenizer, MarianMTModel, MarianConfig\n",
    "from transformers import BertTokenizer, BertForQuestionAnswering\n",
    "from transformers import XLMRobertaTokenizer, XLMRobertaForQuestionAnswering\n",
    "import torch\n",
    "import os\n",
    "import sys\n",
    "import torch\n",
    "import nltk\n",
    "import langid\n",
    "from rank_bm25 import BM25Okapi\n",
    "from typing import List\n",
    "import langid"
   ]
  },
  {
   "cell_type": "code",
   "execution_count": 6,
   "id": "1f202960",
   "metadata": {},
   "outputs": [
    {
     "name": "stderr",
     "output_type": "stream",
     "text": [
      "tokenizer_config.json: 100%|████████████████████| 264/264 [00:00<00:00, 436kB/s]\n",
      "vocab.txt: 100%|█████████████████████████████| 996k/996k [00:00<00:00, 1.13MB/s]\n",
      "special_tokens_map.json: 100%|██████████████████| 112/112 [00:00<00:00, 605kB/s]\n",
      "config.json: 100%|█████████████████████████████| 817/817 [00:00<00:00, 4.59MB/s]\n",
      "model.safetensors: 100%|█████████████████████| 709M/709M [00:44<00:00, 15.8MB/s]\n"
     ]
    },
    {
     "name": "stdout",
     "output_type": "stream",
     "text": [
      "Model name for translation from de to BERT:\n"
     ]
    },
    {
     "name": "stderr",
     "output_type": "stream",
     "text": [
      "tokenizer_config.json: 100%|████████████████████| 302/302 [00:00<00:00, 485kB/s]\n",
      "vocab.txt: 100%|██████████████████████████████| 232k/232k [00:00<00:00, 520kB/s]\n",
      "special_tokens_map.json: 100%|██████████████████| 112/112 [00:00<00:00, 415kB/s]\n",
      "tokenizer.json: 100%|█████████████████████████| 466k/466k [00:00<00:00, 720kB/s]\n",
      "config.json: 100%|█████████████████████████████| 693/693 [00:00<00:00, 4.25MB/s]\n",
      "model.safetensors: 100%|█████████████████████| 436M/436M [00:40<00:00, 10.7MB/s]\n"
     ]
    },
    {
     "name": "stdout",
     "output_type": "stream",
     "text": [
      "Model name for translation from en to BERT:\n"
     ]
    },
    {
     "name": "stderr",
     "output_type": "stream",
     "text": [
      "tokenizer_config.json: 100%|████████████████████| 179/179 [00:00<00:00, 281kB/s]\n",
      "sentencepiece.bpe.model: 100%|█████████████| 5.07M/5.07M [00:00<00:00, 13.1MB/s]\n",
      "special_tokens_map.json: 100%|██████████████████| 150/150 [00:00<00:00, 452kB/s]\n",
      "config.json: 100%|█████████████████████████████| 789/789 [00:00<00:00, 3.78MB/s]\n",
      "pytorch_model.bin: 100%|███████████████████| 2.24G/2.24G [03:12<00:00, 11.6MB/s]\n"
     ]
    },
    {
     "name": "stdout",
     "output_type": "stream",
     "text": [
      "Model name for translation from vi to BERT:\n"
     ]
    },
    {
     "name": "stderr",
     "output_type": "stream",
     "text": [
      "tokenizer_config.json: 100%|████████████████████| 349/349 [00:00<00:00, 749kB/s]\n",
      "vocab.txt: 100%|██████████████████████████████| 110k/110k [00:00<00:00, 260kB/s]\n",
      "special_tokens_map.json: 100%|██████████████████| 125/125 [00:00<00:00, 466kB/s]\n",
      "config.json: 100%|█████████████████████████████| 866/866 [00:00<00:00, 2.44MB/s]\n",
      "pytorch_model.bin: 100%|█████████████████████| 407M/407M [00:34<00:00, 11.8MB/s]\n"
     ]
    },
    {
     "name": "stdout",
     "output_type": "stream",
     "text": [
      "Model name for translation from zh to BERT:\n"
     ]
    }
   ],
   "source": [
    "\n",
    "model_n = {\n",
    "         \"de\": \"deutsche-telekom/bert-multi-english-german-squad2\",\n",
    "         \"en\": \"deepset/bert-base-uncased-squad2\",\n",
    "         \"vi\": \"ancs21/xlm-roberta-large-vi-qa\",\n",
    "         \"zh\": \"ckiplab/bert-base-chinese-qa\"}\n",
    "model_names = {}\n",
    "\n",
    "tokenizer = {}\n",
    "    # Set your authentication token\n",
    "\n",
    "for src,value in model_n.items():\n",
    "    model_name = model_n[src]\n",
    "    if(src==\"vi\"):\n",
    "        tokenizer = XLMRobertaTokenizer.from_pretrained(model_name)\n",
    "        model = XLMRobertaForQuestionAnswering.from_pretrained(model_name)\n",
    "    else:\n",
    "\n",
    "        tokenizer = BertTokenizer.from_pretrained(model_name)\n",
    "        model = BertForQuestionAnswering.from_pretrained(model_name)\n",
    "    \n",
    "    model.save_pretrained(f'Models/{src}_BERT')\n",
    "    tokenizer.save_pretrained(f'Tokenizers/{src}_BERT')\n",
    "    print(f\"Model name for translation from {src} to BERT:\")"
   ]
  },
  {
   "cell_type": "code",
   "execution_count": 8,
   "id": "d0ff89fd",
   "metadata": {},
   "outputs": [
    {
     "name": "stderr",
     "output_type": "stream",
     "text": [
      "/Users/shreysharma/miniconda3/lib/python3.11/site-packages/transformers/models/marian/tokenization_marian.py:197: UserWarning: Recommended: pip install sacremoses.\n",
      "  warnings.warn(\"Recommended: pip install sacremoses.\")\n"
     ]
    },
    {
     "name": "stdout",
     "output_type": "stream",
     "text": [
      "Model name for translation from en to ar: Helsinki-NLP/opus-mt-en-ar\n"
     ]
    },
    {
     "name": "stderr",
     "output_type": "stream",
     "text": [
      "/Users/shreysharma/miniconda3/lib/python3.11/site-packages/transformers/models/marian/tokenization_marian.py:197: UserWarning: Recommended: pip install sacremoses.\n",
      "  warnings.warn(\"Recommended: pip install sacremoses.\")\n"
     ]
    },
    {
     "name": "stdout",
     "output_type": "stream",
     "text": [
      "Model name for translation from en to vi: Helsinki-NLP/opus-mt-en-vi\n"
     ]
    },
    {
     "name": "stderr",
     "output_type": "stream",
     "text": [
      "/Users/shreysharma/miniconda3/lib/python3.11/site-packages/transformers/models/marian/tokenization_marian.py:197: UserWarning: Recommended: pip install sacremoses.\n",
      "  warnings.warn(\"Recommended: pip install sacremoses.\")\n"
     ]
    },
    {
     "name": "stdout",
     "output_type": "stream",
     "text": [
      "Model name for translation from en to de: Helsinki-NLP/opus-mt-en-de\n"
     ]
    },
    {
     "name": "stderr",
     "output_type": "stream",
     "text": [
      "/Users/shreysharma/miniconda3/lib/python3.11/site-packages/transformers/models/marian/tokenization_marian.py:197: UserWarning: Recommended: pip install sacremoses.\n",
      "  warnings.warn(\"Recommended: pip install sacremoses.\")\n"
     ]
    },
    {
     "name": "stdout",
     "output_type": "stream",
     "text": [
      "Model name for translation from en to zh: Helsinki-NLP/opus-mt-en-zh\n"
     ]
    },
    {
     "name": "stderr",
     "output_type": "stream",
     "text": [
      "/Users/shreysharma/miniconda3/lib/python3.11/site-packages/transformers/models/marian/tokenization_marian.py:197: UserWarning: Recommended: pip install sacremoses.\n",
      "  warnings.warn(\"Recommended: pip install sacremoses.\")\n"
     ]
    },
    {
     "name": "stdout",
     "output_type": "stream",
     "text": [
      "Model name for translation from ar to en: Helsinki-NLP/opus-mt-ar-en\n"
     ]
    },
    {
     "name": "stderr",
     "output_type": "stream",
     "text": [
      "/Users/shreysharma/miniconda3/lib/python3.11/site-packages/transformers/models/marian/tokenization_marian.py:197: UserWarning: Recommended: pip install sacremoses.\n",
      "  warnings.warn(\"Recommended: pip install sacremoses.\")\n"
     ]
    },
    {
     "name": "stdout",
     "output_type": "stream",
     "text": [
      "Model name for translation from ar to de: Helsinki-NLP/opus-mt-ar-de\n"
     ]
    },
    {
     "name": "stderr",
     "output_type": "stream",
     "text": [
      "/Users/shreysharma/miniconda3/lib/python3.11/site-packages/transformers/models/marian/tokenization_marian.py:197: UserWarning: Recommended: pip install sacremoses.\n",
      "  warnings.warn(\"Recommended: pip install sacremoses.\")\n"
     ]
    },
    {
     "name": "stdout",
     "output_type": "stream",
     "text": [
      "Model name for translation from vi to en: Helsinki-NLP/opus-mt-vi-en\n"
     ]
    },
    {
     "name": "stderr",
     "output_type": "stream",
     "text": [
      "/Users/shreysharma/miniconda3/lib/python3.11/site-packages/transformers/models/marian/tokenization_marian.py:197: UserWarning: Recommended: pip install sacremoses.\n",
      "  warnings.warn(\"Recommended: pip install sacremoses.\")\n"
     ]
    },
    {
     "name": "stdout",
     "output_type": "stream",
     "text": [
      "Model name for translation from vi to de: Helsinki-NLP/opus-mt-vi-de\n"
     ]
    },
    {
     "name": "stderr",
     "output_type": "stream",
     "text": [
      "pytorch_model.bin: 100%|█████████████████████| 298M/298M [00:27<00:00, 11.0MB/s]\n",
      "generation_config.json: 100%|██████████████████| 293/293 [00:00<00:00, 1.13MB/s]\n",
      "tokenizer_config.json: 100%|██████████████████| 42.0/42.0 [00:00<00:00, 194kB/s]\n",
      "source.spm: 100%|████████████████████████████| 797k/797k [00:00<00:00, 10.8MB/s]\n",
      "target.spm: 100%|████████████████████████████| 768k/768k [00:00<00:00, 9.70MB/s]\n",
      "vocab.json: 100%|██████████████████████████| 1.27M/1.27M [00:00<00:00, 5.05MB/s]\n",
      "/Users/shreysharma/miniconda3/lib/python3.11/site-packages/transformers/models/marian/tokenization_marian.py:197: UserWarning: Recommended: pip install sacremoses.\n",
      "  warnings.warn(\"Recommended: pip install sacremoses.\")\n"
     ]
    },
    {
     "name": "stdout",
     "output_type": "stream",
     "text": [
      "Model name for translation from de to en: Helsinki-NLP/opus-mt-de-en\n"
     ]
    },
    {
     "name": "stderr",
     "output_type": "stream",
     "text": [
      "config.json: 100%|█████████████████████████| 1.39k/1.39k [00:00<00:00, 4.24MB/s]\n",
      "pytorch_model.bin: 100%|█████████████████████| 308M/308M [00:25<00:00, 12.0MB/s]\n",
      "generation_config.json: 100%|██████████████████| 293/293 [00:00<00:00, 1.12MB/s]\n",
      "tokenizer_config.json: 100%|██████████████████| 44.0/44.0 [00:00<00:00, 241kB/s]\n",
      "source.spm: 100%|████████████████████████████| 829k/829k [00:00<00:00, 5.16MB/s]\n",
      "target.spm: 100%|████████████████████████████| 903k/903k [00:00<00:00, 1.76MB/s]\n",
      "vocab.json: 100%|██████████████████████████| 2.13M/2.13M [00:00<00:00, 5.66MB/s]\n",
      "/Users/shreysharma/miniconda3/lib/python3.11/site-packages/transformers/models/marian/tokenization_marian.py:197: UserWarning: Recommended: pip install sacremoses.\n",
      "  warnings.warn(\"Recommended: pip install sacremoses.\")\n"
     ]
    },
    {
     "name": "stdout",
     "output_type": "stream",
     "text": [
      "Model name for translation from de to ar: Helsinki-NLP/opus-mt-de-ar\n"
     ]
    },
    {
     "name": "stderr",
     "output_type": "stream",
     "text": [
      "config.json: 100%|█████████████████████████| 1.39k/1.39k [00:00<00:00, 5.18MB/s]\n",
      "pytorch_model.bin: 100%|█████████████████████| 298M/298M [00:42<00:00, 7.06MB/s]\n",
      "generation_config.json: 100%|██████████████████| 293/293 [00:00<00:00, 50.3kB/s]\n",
      "tokenizer_config.json: 100%|██████████████████| 44.0/44.0 [00:00<00:00, 142kB/s]\n",
      "source.spm: 100%|████████████████████████████| 836k/836k [00:00<00:00, 3.79MB/s]\n",
      "target.spm: 100%|████████████████████████████| 760k/760k [00:00<00:00, 3.86MB/s]\n",
      "vocab.json: 100%|██████████████████████████| 1.34M/1.34M [00:00<00:00, 4.76MB/s]\n",
      "/Users/shreysharma/miniconda3/lib/python3.11/site-packages/transformers/models/marian/tokenization_marian.py:197: UserWarning: Recommended: pip install sacremoses.\n",
      "  warnings.warn(\"Recommended: pip install sacremoses.\")\n"
     ]
    },
    {
     "name": "stdout",
     "output_type": "stream",
     "text": [
      "Model name for translation from de to vi: Helsinki-NLP/opus-mt-de-vi\n"
     ]
    },
    {
     "name": "stderr",
     "output_type": "stream",
     "text": [
      "config.json: 100%|█████████████████████████| 1.36k/1.36k [00:00<00:00, 5.77MB/s]\n",
      "pytorch_model.bin: 100%|█████████████████████| 306M/306M [00:27<00:00, 11.3MB/s]\n",
      "generation_config.json: 100%|███████████████████| 293/293 [00:00<00:00, 739kB/s]\n",
      "tokenizer_config.json: 100%|████████████████████| 104/104 [00:00<00:00, 514kB/s]\n",
      "source.spm: 100%|████████████████████████████| 816k/816k [00:00<00:00, 7.53MB/s]\n",
      "target.spm: 100%|█████████████████████████████| 711k/711k [00:00<00:00, 831kB/s]\n",
      "vocab.json: 100%|██████████████████████████| 1.40M/1.40M [00:00<00:00, 10.5MB/s]\n",
      "/Users/shreysharma/miniconda3/lib/python3.11/site-packages/transformers/models/marian/tokenization_marian.py:197: UserWarning: Recommended: pip install sacremoses.\n",
      "  warnings.warn(\"Recommended: pip install sacremoses.\")\n"
     ]
    },
    {
     "name": "stdout",
     "output_type": "stream",
     "text": [
      "Model name for translation from de to zh: Helsinki-NLP/opus-mt-de-zh\n"
     ]
    },
    {
     "name": "stderr",
     "output_type": "stream",
     "text": [
      "config.json: 100%|█████████████████████████| 1.39k/1.39k [00:00<00:00, 7.83MB/s]\n",
      "pytorch_model.bin: 100%|█████████████████████| 312M/312M [00:33<00:00, 9.26MB/s]\n",
      "generation_config.json: 100%|███████████████████| 293/293 [00:00<00:00, 385kB/s]\n",
      "tokenizer_config.json: 100%|██████████████████| 44.0/44.0 [00:00<00:00, 211kB/s]\n",
      "source.spm: 100%|████████████████████████████| 805k/805k [00:00<00:00, 10.8MB/s]\n",
      "target.spm: 100%|████████████████████████████| 807k/807k [00:00<00:00, 11.0MB/s]\n",
      "vocab.json: 100%|██████████████████████████| 1.62M/1.62M [00:00<00:00, 5.57MB/s]\n",
      "/Users/shreysharma/miniconda3/lib/python3.11/site-packages/transformers/models/marian/tokenization_marian.py:197: UserWarning: Recommended: pip install sacremoses.\n",
      "  warnings.warn(\"Recommended: pip install sacremoses.\")\n"
     ]
    },
    {
     "name": "stdout",
     "output_type": "stream",
     "text": [
      "Model name for translation from zh to en: Helsinki-NLP/opus-mt-zh-en\n"
     ]
    },
    {
     "name": "stderr",
     "output_type": "stream",
     "text": [
      "config.json: 100%|█████████████████████████| 1.39k/1.39k [00:00<00:00, 8.15MB/s]\n",
      "pytorch_model.bin: 100%|█████████████████████| 312M/312M [00:26<00:00, 11.9MB/s]\n",
      "generation_config.json: 100%|███████████████████| 293/293 [00:00<00:00, 397kB/s]\n",
      "tokenizer_config.json: 100%|██████████████████| 44.0/44.0 [00:00<00:00, 253kB/s]\n",
      "source.spm: 100%|████████████████████████████| 750k/750k [00:00<00:00, 11.5MB/s]\n",
      "target.spm: 100%|████████████████████████████| 766k/766k [00:00<00:00, 12.3MB/s]\n",
      "vocab.json: 100%|███████████████████████████| 1.51M/1.51M [00:01<00:00, 935kB/s]\n",
      "/Users/shreysharma/miniconda3/lib/python3.11/site-packages/transformers/models/marian/tokenization_marian.py:197: UserWarning: Recommended: pip install sacremoses.\n",
      "  warnings.warn(\"Recommended: pip install sacremoses.\")\n"
     ]
    },
    {
     "name": "stdout",
     "output_type": "stream",
     "text": [
      "Model name for translation from zh to vi: Helsinki-NLP/opus-mt-zh-vi\n"
     ]
    },
    {
     "name": "stderr",
     "output_type": "stream",
     "text": [
      "config.json: 100%|█████████████████████████| 1.39k/1.39k [00:00<00:00, 6.74MB/s]\n",
      "pytorch_model.bin: 100%|█████████████████████| 312M/312M [00:25<00:00, 12.3MB/s]\n",
      "generation_config.json: 100%|███████████████████| 293/293 [00:00<00:00, 579kB/s]\n",
      "tokenizer_config.json: 100%|██████████████████| 44.0/44.0 [00:00<00:00, 245kB/s]\n",
      "source.spm: 100%|████████████████████████████| 749k/749k [00:00<00:00, 6.71MB/s]\n",
      "target.spm: 100%|████████████████████████████| 823k/823k [00:00<00:00, 6.32MB/s]\n",
      "vocab.json: 100%|██████████████████████████| 1.54M/1.54M [00:00<00:00, 6.89MB/s]\n",
      "/Users/shreysharma/miniconda3/lib/python3.11/site-packages/transformers/models/marian/tokenization_marian.py:197: UserWarning: Recommended: pip install sacremoses.\n",
      "  warnings.warn(\"Recommended: pip install sacremoses.\")\n"
     ]
    },
    {
     "name": "stdout",
     "output_type": "stream",
     "text": [
      "Model name for translation from zh to de: Helsinki-NLP/opus-mt-zh-de\n"
     ]
    }
   ],
   "source": [
    "target_languages = [\"en\", \"ar\", \"vi\", \"de\", \"zh\"]\n",
    "\n",
    "model_names = {}\n",
    "model = {}\n",
    "tokenizer = {}\n",
    "for src in target_languages:\n",
    "    for trg in target_languages:\n",
    "        if (src == \"ar\" and trg == \"vi\") or (src == \"ar\" and trg == \"zh\") or (src == \"vi\" and trg == \"ar\") or (src == \"vi\" and trg == \"zh\") or (src == \"zh\" and trg == \"ar\") or (src == \"zh\" and trg == \"fr\"):\n",
    "            continue\n",
    "        if trg != src:\n",
    "            model_name = f'Helsinki-NLP/opus-mt-{src}-{trg}'\n",
    "            model_names[(src, trg)] = model_name\n",
    "            model[(src, trg)] = f\"model_name_{src}_{trg}\"\n",
    "\n",
    "# Print the generated model names\n",
    "for (src, trg), model_name in model_names.items():\n",
    "    model[(src, trg)] = MarianMTModel.from_pretrained(model_name)\n",
    "    tokenizer[(src, trg)] = MarianTokenizer.from_pretrained(model_name)\n",
    "    \n",
    "    model[(src, trg)].save_pretrained(f'Models/{src}_{trg}')\n",
    "    tokenizer[(src, trg)].save_pretrained(f'Tokenizers/{src}_{trg}')\n",
    "    print(f\"Model name for translation from {src} to {trg}: {model_name}\")"
   ]
  }
 ],
 "metadata": {
  "kernelspec": {
   "display_name": "Python 3 (ipykernel)",
   "language": "python",
   "name": "python3"
  },
  "language_info": {
   "codemirror_mode": {
    "name": "ipython",
    "version": 3
   },
   "file_extension": ".py",
   "mimetype": "text/x-python",
   "name": "python",
   "nbconvert_exporter": "python",
   "pygments_lexer": "ipython3",
   "version": "3.11.5"
  }
 },
 "nbformat": 4,
 "nbformat_minor": 5
}
